{
 "cells": [
  {
   "cell_type": "code",
   "execution_count": null,
   "id": "00588756",
   "metadata": {},
   "outputs": [],
   "source": [
    "# 📘 Fraud Detection Starter Notebook\n",
    "\n",
    "# 👇 STEP 1: Load dataset\n",
    "import pandas as pd\n",
    "fraud_df = pd.read_csv(\"fraud_detection_dataset.csv\")\n"
   ]
  },
  {
   "cell_type": "code",
   "execution_count": null,
   "id": "61a8a076",
   "metadata": {},
   "outputs": [],
   "source": [
    "\n",
    "# 👀 STEP 2: Preview data\n",
    "fraud_df.head()\n",
    "\n"
   ]
  },
  {
   "cell_type": "code",
   "execution_count": null,
   "id": "28170be8",
   "metadata": {},
   "outputs": [],
   "source": [
    "# 📏 STEP 3: Basic dataset info\n",
    "fraud_df.info()\n",
    "fraud_df.describe()\n"
   ]
  },
  {
   "cell_type": "code",
   "execution_count": null,
   "id": "93204274",
   "metadata": {},
   "outputs": [],
   "source": [
    "# ✅ Prompt:- these are just to help you start with the case analysis.\n",
    "# \"What are the most common transaction types and device types among fraud cases?\"\n",
    "# \"Which features show imbalance or potential data quality issues?\"\n",
    "# \"Is there a significant difference in average amount between fraud and non-fraud transactions?\""
   ]
  }
 ],
 "metadata": {
  "kernelspec": {
   "display_name": "Python 3",
   "language": "python",
   "name": "python3"
  },
  "language_info": {
   "name": "python",
   "version": "3.13.0"
  }
 },
 "nbformat": 4,
 "nbformat_minor": 5
}
