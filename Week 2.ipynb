{
 "cells": [
  {
   "cell_type": "markdown",
   "id": "c1bf6650",
   "metadata": {},
   "source": [
    "Week 2 of data science for business \n",
    "the CRISP-dm model"
   ]
  },
  {
   "cell_type": "markdown",
   "id": "62b7c7e8",
   "metadata": {},
   "source": [
    "# Group Activity: Customer Churn Analysis\n",
    "Explore factors that may influence customer churn in a retail environment."
   ]
  },
  {
   "cell_type": "code",
   "execution_count": 1,
   "id": "f531bc00",
   "metadata": {},
   "outputs": [],
   "source": [
    "import pandas as pd\n",
    "import matplotlib.pyplot as plt\n",
    "import seaborn as sns"
   ]
  },
  {
   "cell_type": "code",
   "execution_count": 23,
   "id": "491decaa",
   "metadata": {},
   "outputs": [
    {
     "data": {
      "application/vnd.microsoft.datawrangler.viewer.v0+json": {
       "columns": [
        {
         "name": "index",
         "rawType": "int64",
         "type": "integer"
        },
        {
         "name": "Customer_ID",
         "rawType": "int64",
         "type": "integer"
        },
        {
         "name": "Age",
         "rawType": "int64",
         "type": "integer"
        },
        {
         "name": "Gender",
         "rawType": "object",
         "type": "string"
        },
        {
         "name": "Region",
         "rawType": "object",
         "type": "string"
        },
        {
         "name": "Tenure_Months",
         "rawType": "int64",
         "type": "integer"
        },
        {
         "name": "Annual_Spend",
         "rawType": "float64",
         "type": "float"
        },
        {
         "name": "Promo_Used",
         "rawType": "int64",
         "type": "integer"
        },
        {
         "name": "Customer_Service_Calls",
         "rawType": "int64",
         "type": "integer"
        },
        {
         "name": "Churned",
         "rawType": "int64",
         "type": "integer"
        }
       ],
       "ref": "37475682-1a1a-4216-bf9f-0547b8e65025",
       "rows": [
        [
         "0",
         "1",
         "56",
         "Female",
         "South",
         "58",
         "1492.43",
         "1",
         "2",
         "0"
        ],
        [
         "1",
         "2",
         "69",
         "Male",
         "South",
         "28",
         "4567.46",
         "1",
         "0",
         "1"
        ],
        [
         "2",
         "3",
         "46",
         "Male",
         "North",
         "36",
         "4211.45",
         "1",
         "1",
         "1"
        ],
        [
         "3",
         "4",
         "32",
         "Male",
         "East",
         "26",
         "3210.62",
         "1",
         "1",
         "0"
        ],
        [
         "4",
         "5",
         "60",
         "Male",
         "South",
         "8",
         "2084.8",
         "1",
         "3",
         "1"
        ]
       ],
       "shape": {
        "columns": 9,
        "rows": 5
       }
      },
      "text/html": [
       "<div>\n",
       "<style scoped>\n",
       "    .dataframe tbody tr th:only-of-type {\n",
       "        vertical-align: middle;\n",
       "    }\n",
       "\n",
       "    .dataframe tbody tr th {\n",
       "        vertical-align: top;\n",
       "    }\n",
       "\n",
       "    .dataframe thead th {\n",
       "        text-align: right;\n",
       "    }\n",
       "</style>\n",
       "<table border=\"1\" class=\"dataframe\">\n",
       "  <thead>\n",
       "    <tr style=\"text-align: right;\">\n",
       "      <th></th>\n",
       "      <th>Customer_ID</th>\n",
       "      <th>Age</th>\n",
       "      <th>Gender</th>\n",
       "      <th>Region</th>\n",
       "      <th>Tenure_Months</th>\n",
       "      <th>Annual_Spend</th>\n",
       "      <th>Promo_Used</th>\n",
       "      <th>Customer_Service_Calls</th>\n",
       "      <th>Churned</th>\n",
       "    </tr>\n",
       "  </thead>\n",
       "  <tbody>\n",
       "    <tr>\n",
       "      <th>0</th>\n",
       "      <td>1</td>\n",
       "      <td>56</td>\n",
       "      <td>Female</td>\n",
       "      <td>South</td>\n",
       "      <td>58</td>\n",
       "      <td>1492.43</td>\n",
       "      <td>1</td>\n",
       "      <td>2</td>\n",
       "      <td>0</td>\n",
       "    </tr>\n",
       "    <tr>\n",
       "      <th>1</th>\n",
       "      <td>2</td>\n",
       "      <td>69</td>\n",
       "      <td>Male</td>\n",
       "      <td>South</td>\n",
       "      <td>28</td>\n",
       "      <td>4567.46</td>\n",
       "      <td>1</td>\n",
       "      <td>0</td>\n",
       "      <td>1</td>\n",
       "    </tr>\n",
       "    <tr>\n",
       "      <th>2</th>\n",
       "      <td>3</td>\n",
       "      <td>46</td>\n",
       "      <td>Male</td>\n",
       "      <td>North</td>\n",
       "      <td>36</td>\n",
       "      <td>4211.45</td>\n",
       "      <td>1</td>\n",
       "      <td>1</td>\n",
       "      <td>1</td>\n",
       "    </tr>\n",
       "    <tr>\n",
       "      <th>3</th>\n",
       "      <td>4</td>\n",
       "      <td>32</td>\n",
       "      <td>Male</td>\n",
       "      <td>East</td>\n",
       "      <td>26</td>\n",
       "      <td>3210.62</td>\n",
       "      <td>1</td>\n",
       "      <td>1</td>\n",
       "      <td>0</td>\n",
       "    </tr>\n",
       "    <tr>\n",
       "      <th>4</th>\n",
       "      <td>5</td>\n",
       "      <td>60</td>\n",
       "      <td>Male</td>\n",
       "      <td>South</td>\n",
       "      <td>8</td>\n",
       "      <td>2084.80</td>\n",
       "      <td>1</td>\n",
       "      <td>3</td>\n",
       "      <td>1</td>\n",
       "    </tr>\n",
       "  </tbody>\n",
       "</table>\n",
       "</div>"
      ],
      "text/plain": [
       "   Customer_ID  Age  Gender Region  Tenure_Months  Annual_Spend  Promo_Used  \\\n",
       "0            1   56  Female  South             58       1492.43           1   \n",
       "1            2   69    Male  South             28       4567.46           1   \n",
       "2            3   46    Male  North             36       4211.45           1   \n",
       "3            4   32    Male   East             26       3210.62           1   \n",
       "4            5   60    Male  South              8       2084.80           1   \n",
       "\n",
       "   Customer_Service_Calls  Churned  \n",
       "0                       2        0  \n",
       "1                       0        1  \n",
       "2                       1        1  \n",
       "3                       1        0  \n",
       "4                       3        1  "
      ]
     },
     "execution_count": 23,
     "metadata": {},
     "output_type": "execute_result"
    }
   ],
   "source": [
    "# Load dataset\n",
    "url = \"https://raw.githubusercontent.com/Patrick0481/Data-science-for-business/refs/heads/main/in_class_customer_churn_dataset.csv?token=GHSAT0AAAAAADKNWND6XJSRJRWLOJIFTCE22GL4NXA\"\n",
    "df = pd.read_csv(url)\n",
    "df.head()"
   ]
  },
  {
   "cell_type": "code",
   "execution_count": 21,
   "id": "3f0715fe",
   "metadata": {},
   "outputs": [
    {
     "name": "stdout",
     "output_type": "stream",
     "text": [
      "Shape: (300, 9)\n",
      "<class 'pandas.core.frame.DataFrame'>\n",
      "RangeIndex: 300 entries, 0 to 299\n",
      "Data columns (total 9 columns):\n",
      " #   Column                  Non-Null Count  Dtype  \n",
      "---  ------                  --------------  -----  \n",
      " 0   Customer_ID             300 non-null    int64  \n",
      " 1   Age                     300 non-null    int64  \n",
      " 2   Gender                  300 non-null    object \n",
      " 3   Region                  300 non-null    object \n",
      " 4   Tenure_Months           300 non-null    int64  \n",
      " 5   Annual_Spend            300 non-null    float64\n",
      " 6   Promo_Used              300 non-null    int64  \n",
      " 7   Customer_Service_Calls  300 non-null    int64  \n",
      " 8   Churned                 300 non-null    int64  \n",
      "dtypes: float64(1), int64(6), object(2)\n",
      "memory usage: 21.2+ KB\n",
      "\n",
      "Missing Values:\n",
      "Customer_ID               0\n",
      "Age                       0\n",
      "Gender                    0\n",
      "Region                    0\n",
      "Tenure_Months             0\n",
      "Annual_Spend              0\n",
      "Promo_Used                0\n",
      "Customer_Service_Calls    0\n",
      "Churned                   0\n",
      "dtype: int64\n"
     ]
    }
   ],
   "source": [
    "# Step 1: Basic Info\n",
    "print(\"Shape:\", df.shape)\n",
    "df.info()\n",
    "print(\"\\nMissing Values:\")\n",
    "print(df.isnull().sum())"
   ]
  },
  {
   "cell_type": "code",
   "execution_count": 5,
   "id": "7ee16dec",
   "metadata": {},
   "outputs": [
    {
     "data": {
      "application/vnd.microsoft.datawrangler.viewer.v0+json": {
       "columns": [
        {
         "name": "index",
         "rawType": "object",
         "type": "string"
        },
        {
         "name": "Customer_ID",
         "rawType": "float64",
         "type": "float"
        },
        {
         "name": "Age",
         "rawType": "float64",
         "type": "float"
        },
        {
         "name": "Gender",
         "rawType": "object",
         "type": "unknown"
        },
        {
         "name": "Region",
         "rawType": "object",
         "type": "unknown"
        },
        {
         "name": "Tenure_Months",
         "rawType": "float64",
         "type": "float"
        },
        {
         "name": "Annual_Spend",
         "rawType": "float64",
         "type": "float"
        },
        {
         "name": "Promo_Used",
         "rawType": "float64",
         "type": "float"
        },
        {
         "name": "Customer_Service_Calls",
         "rawType": "float64",
         "type": "float"
        },
        {
         "name": "Churned",
         "rawType": "float64",
         "type": "float"
        }
       ],
       "ref": "4333eb22-e7e2-426a-902f-0fd41694c004",
       "rows": [
        [
         "count",
         "300.0",
         "300.0",
         "300",
         "300",
         "300.0",
         "300.0",
         "300.0",
         "300.0",
         "300.0"
        ],
        [
         "unique",
         null,
         null,
         "2",
         "4",
         null,
         null,
         null,
         null,
         null
        ],
        [
         "top",
         null,
         null,
         "Female",
         "North",
         null,
         null,
         null,
         null,
         null
        ],
        [
         "freq",
         null,
         null,
         "162",
         "90",
         null,
         null,
         null,
         null,
         null
        ],
        [
         "mean",
         "150.5",
         "43.32",
         null,
         null,
         "30.283333333333335",
         "3599.7729999999997",
         "0.6233333333333333",
         "1.9166666666666667",
         "0.24666666666666667"
        ],
        [
         "std",
         "86.74675786448736",
         "15.326685583318387",
         null,
         null,
         "17.28290247466316",
         "1069.7689292479386",
         "0.48535980056955547",
         "1.3249808059020773",
         "0.43179127043782384"
        ],
        [
         "min",
         "1.0",
         "18.0",
         null,
         null,
         "1.0",
         "715.36",
         "0.0",
         "0.0",
         "0.0"
        ],
        [
         "25%",
         "75.75",
         "30.0",
         null,
         null,
         "16.0",
         "2861.69",
         "0.0",
         "1.0",
         "0.0"
        ],
        [
         "50%",
         "150.5",
         "43.5",
         null,
         null,
         "29.5",
         "3618.165",
         "1.0",
         "2.0",
         "0.0"
        ],
        [
         "75%",
         "225.25",
         "56.0",
         null,
         null,
         "47.0",
         "4321.2925",
         "1.0",
         "3.0",
         "0.0"
        ],
        [
         "max",
         "300.0",
         "69.0",
         null,
         null,
         "59.0",
         "6476.2",
         "1.0",
         "6.0",
         "1.0"
        ]
       ],
       "shape": {
        "columns": 9,
        "rows": 11
       }
      },
      "text/html": [
       "<div>\n",
       "<style scoped>\n",
       "    .dataframe tbody tr th:only-of-type {\n",
       "        vertical-align: middle;\n",
       "    }\n",
       "\n",
       "    .dataframe tbody tr th {\n",
       "        vertical-align: top;\n",
       "    }\n",
       "\n",
       "    .dataframe thead th {\n",
       "        text-align: right;\n",
       "    }\n",
       "</style>\n",
       "<table border=\"1\" class=\"dataframe\">\n",
       "  <thead>\n",
       "    <tr style=\"text-align: right;\">\n",
       "      <th></th>\n",
       "      <th>Customer_ID</th>\n",
       "      <th>Age</th>\n",
       "      <th>Gender</th>\n",
       "      <th>Region</th>\n",
       "      <th>Tenure_Months</th>\n",
       "      <th>Annual_Spend</th>\n",
       "      <th>Promo_Used</th>\n",
       "      <th>Customer_Service_Calls</th>\n",
       "      <th>Churned</th>\n",
       "    </tr>\n",
       "  </thead>\n",
       "  <tbody>\n",
       "    <tr>\n",
       "      <th>count</th>\n",
       "      <td>300.000000</td>\n",
       "      <td>300.000000</td>\n",
       "      <td>300</td>\n",
       "      <td>300</td>\n",
       "      <td>300.000000</td>\n",
       "      <td>300.000000</td>\n",
       "      <td>300.000000</td>\n",
       "      <td>300.000000</td>\n",
       "      <td>300.000000</td>\n",
       "    </tr>\n",
       "    <tr>\n",
       "      <th>unique</th>\n",
       "      <td>NaN</td>\n",
       "      <td>NaN</td>\n",
       "      <td>2</td>\n",
       "      <td>4</td>\n",
       "      <td>NaN</td>\n",
       "      <td>NaN</td>\n",
       "      <td>NaN</td>\n",
       "      <td>NaN</td>\n",
       "      <td>NaN</td>\n",
       "    </tr>\n",
       "    <tr>\n",
       "      <th>top</th>\n",
       "      <td>NaN</td>\n",
       "      <td>NaN</td>\n",
       "      <td>Female</td>\n",
       "      <td>North</td>\n",
       "      <td>NaN</td>\n",
       "      <td>NaN</td>\n",
       "      <td>NaN</td>\n",
       "      <td>NaN</td>\n",
       "      <td>NaN</td>\n",
       "    </tr>\n",
       "    <tr>\n",
       "      <th>freq</th>\n",
       "      <td>NaN</td>\n",
       "      <td>NaN</td>\n",
       "      <td>162</td>\n",
       "      <td>90</td>\n",
       "      <td>NaN</td>\n",
       "      <td>NaN</td>\n",
       "      <td>NaN</td>\n",
       "      <td>NaN</td>\n",
       "      <td>NaN</td>\n",
       "    </tr>\n",
       "    <tr>\n",
       "      <th>mean</th>\n",
       "      <td>150.500000</td>\n",
       "      <td>43.320000</td>\n",
       "      <td>NaN</td>\n",
       "      <td>NaN</td>\n",
       "      <td>30.283333</td>\n",
       "      <td>3599.773000</td>\n",
       "      <td>0.623333</td>\n",
       "      <td>1.916667</td>\n",
       "      <td>0.246667</td>\n",
       "    </tr>\n",
       "    <tr>\n",
       "      <th>std</th>\n",
       "      <td>86.746758</td>\n",
       "      <td>15.326686</td>\n",
       "      <td>NaN</td>\n",
       "      <td>NaN</td>\n",
       "      <td>17.282902</td>\n",
       "      <td>1069.768929</td>\n",
       "      <td>0.485360</td>\n",
       "      <td>1.324981</td>\n",
       "      <td>0.431791</td>\n",
       "    </tr>\n",
       "    <tr>\n",
       "      <th>min</th>\n",
       "      <td>1.000000</td>\n",
       "      <td>18.000000</td>\n",
       "      <td>NaN</td>\n",
       "      <td>NaN</td>\n",
       "      <td>1.000000</td>\n",
       "      <td>715.360000</td>\n",
       "      <td>0.000000</td>\n",
       "      <td>0.000000</td>\n",
       "      <td>0.000000</td>\n",
       "    </tr>\n",
       "    <tr>\n",
       "      <th>25%</th>\n",
       "      <td>75.750000</td>\n",
       "      <td>30.000000</td>\n",
       "      <td>NaN</td>\n",
       "      <td>NaN</td>\n",
       "      <td>16.000000</td>\n",
       "      <td>2861.690000</td>\n",
       "      <td>0.000000</td>\n",
       "      <td>1.000000</td>\n",
       "      <td>0.000000</td>\n",
       "    </tr>\n",
       "    <tr>\n",
       "      <th>50%</th>\n",
       "      <td>150.500000</td>\n",
       "      <td>43.500000</td>\n",
       "      <td>NaN</td>\n",
       "      <td>NaN</td>\n",
       "      <td>29.500000</td>\n",
       "      <td>3618.165000</td>\n",
       "      <td>1.000000</td>\n",
       "      <td>2.000000</td>\n",
       "      <td>0.000000</td>\n",
       "    </tr>\n",
       "    <tr>\n",
       "      <th>75%</th>\n",
       "      <td>225.250000</td>\n",
       "      <td>56.000000</td>\n",
       "      <td>NaN</td>\n",
       "      <td>NaN</td>\n",
       "      <td>47.000000</td>\n",
       "      <td>4321.292500</td>\n",
       "      <td>1.000000</td>\n",
       "      <td>3.000000</td>\n",
       "      <td>0.000000</td>\n",
       "    </tr>\n",
       "    <tr>\n",
       "      <th>max</th>\n",
       "      <td>300.000000</td>\n",
       "      <td>69.000000</td>\n",
       "      <td>NaN</td>\n",
       "      <td>NaN</td>\n",
       "      <td>59.000000</td>\n",
       "      <td>6476.200000</td>\n",
       "      <td>1.000000</td>\n",
       "      <td>6.000000</td>\n",
       "      <td>1.000000</td>\n",
       "    </tr>\n",
       "  </tbody>\n",
       "</table>\n",
       "</div>"
      ],
      "text/plain": [
       "        Customer_ID         Age  Gender Region  Tenure_Months  Annual_Spend  \\\n",
       "count    300.000000  300.000000     300    300     300.000000    300.000000   \n",
       "unique          NaN         NaN       2      4            NaN           NaN   \n",
       "top             NaN         NaN  Female  North            NaN           NaN   \n",
       "freq            NaN         NaN     162     90            NaN           NaN   \n",
       "mean     150.500000   43.320000     NaN    NaN      30.283333   3599.773000   \n",
       "std       86.746758   15.326686     NaN    NaN      17.282902   1069.768929   \n",
       "min        1.000000   18.000000     NaN    NaN       1.000000    715.360000   \n",
       "25%       75.750000   30.000000     NaN    NaN      16.000000   2861.690000   \n",
       "50%      150.500000   43.500000     NaN    NaN      29.500000   3618.165000   \n",
       "75%      225.250000   56.000000     NaN    NaN      47.000000   4321.292500   \n",
       "max      300.000000   69.000000     NaN    NaN      59.000000   6476.200000   \n",
       "\n",
       "        Promo_Used  Customer_Service_Calls     Churned  \n",
       "count   300.000000              300.000000  300.000000  \n",
       "unique         NaN                     NaN         NaN  \n",
       "top            NaN                     NaN         NaN  \n",
       "freq           NaN                     NaN         NaN  \n",
       "mean      0.623333                1.916667    0.246667  \n",
       "std       0.485360                1.324981    0.431791  \n",
       "min       0.000000                0.000000    0.000000  \n",
       "25%       0.000000                1.000000    0.000000  \n",
       "50%       1.000000                2.000000    0.000000  \n",
       "75%       1.000000                3.000000    0.000000  \n",
       "max       1.000000                6.000000    1.000000  "
      ]
     },
     "execution_count": 5,
     "metadata": {},
     "output_type": "execute_result"
    }
   ],
   "source": [
    "# Step 2: Descriptive Stats\n",
    "df.describe(include='all')"
   ]
  },
  {
   "cell_type": "code",
   "execution_count": 20,
   "id": "ffcbae6d",
   "metadata": {},
   "outputs": [
    {
     "data": {
      "image/png": "[encoded data removed]",
      "text/plain": [
       "<Figure size 640x480 with 1 Axes>"
      ]
     },
     "metadata": {},
     "output_type": "display_data"
    }
   ],
   "source": [
    "# Step 3: Churn Distribution\n",
    "sns.countplot(x='Churned', data=df)\n",
    "plt.title(\"Customer Churn Distribution\")\n",
    "plt.show()"
   ]
  },
  {
   "cell_type": "code",
   "execution_count": 19,
   "id": "c721dfe2",
   "metadata": {},
   "outputs": [
    {
     "data": {
      "image/png": "[encoded data removed]",
      "text/plain": [
       "<Figure size 640x480 with 1 Axes>"
      ]
     },
     "metadata": {},
     "output_type": "display_data"
    }
   ],
   "source": [
    "# Step 4: Annual Spend by Churn\n",
    "sns.boxplot(x='Churned', y='Annual_Spend', data=df)\n",
    "plt.title(\"Annual Spend by Churn Status\")\n",
    "plt.show()"
   ]
  },
  {
   "cell_type": "code",
   "execution_count": 18,
   "id": "93be74f8",
   "metadata": {},
   "outputs": [
    {
     "data": {
      "image/png": "[encoded data removed]",
      "text/plain": [
       "<Figure size 640x480 with 1 Axes>"
      ]
     },
     "metadata": {},
     "output_type": "display_data"
    }
   ],
   "source": [
    "# Step 5: Tenure and Churn\n",
    "sns.histplot(data=df, x='Tenure_Months', hue='Churned', multiple='stack')\n",
    "plt.title(\"Tenure Distribution by Churn Status\")\n",
    "plt.show()"
   ]
  },
  {
   "cell_type": "code",
   "execution_count": 17,
   "id": "56d01423",
   "metadata": {},
   "outputs": [
    {
     "data": {
      "image/png": "[encoded data removed]",
      "text/plain": [
       "<Figure size 640x480 with 1 Axes>"
      ]
     },
     "metadata": {},
     "output_type": "display_data"
    }
   ],
   "source": [
    "# Step 6: Customer Service Calls vs. Churn\n",
    "sns.boxplot(x='Churned', y='Customer_Service_Calls', data=df)\n",
    "plt.title(\"Customer Service Calls by Churn Status\")\n",
    "plt.show()"
   ]
  },
  {
   "cell_type": "code",
   "execution_count": 25,
   "id": "c1fa257a",
   "metadata": {},
   "outputs": [
    {
     "name": "stdout",
     "output_type": "stream",
     "text": [
      "  Region  Avg_Annual_Spend  Churn_Rate  Avg_Customer_Service_Calls\n",
      "0   East       3576.807059    0.279412                    1.941176\n",
      "1  North       3721.950111    0.222222                    1.644444\n",
      "2  South       3254.192769    0.261538                    2.230769\n",
      "3   West       3768.973766    0.233766                    1.948052\n"
     ]
    }
   ],
   "source": [
    "#Group by region: Avg Spend and Churn Rate\n",
    "region_summary = df.groupby('Region').agg(\n",
    "    Avg_Annual_Spend=('Annual_Spend', 'mean'),\n",
    "    Churn_Rate=('Churned', 'mean'),\n",
    "    Avg_Customer_Service_Calls=('Customer_Service_Calls', 'mean')\n",
    ").reset_index()\n",
    "\n",
    "print(region_summary)"
   ]
  },
  {
   "cell_type": "code",
   "execution_count": 10,
   "id": "32c74090",
   "metadata": {},
   "outputs": [
    {
     "data": {
      "image/png": "[encoded data removed]",
      "text/plain": [
       "<Figure size 640x480 with 2 Axes>"
      ]
     },
     "metadata": {},
     "output_type": "display_data"
    }
   ],
   "source": [
    "# Step 7: Correlation Matrix (Numerical Features)\n",
    "sns.heatmap(df.corr(numeric_only=True), annot=True, cmap='coolwarm')\n",
    "plt.title(\"Correlation Matrix\")\n",
    "plt.show()"
   ]
  },
  {
   "cell_type": "markdown",
   "id": "f9288e95",
   "metadata": {},
   "source": [
    "### ✅ Challenge Prompts\n",
    "- What patterns can you see?\n",
    "- Which customers seem at higher risk of churn?\n",
    "- What business actions would you recommend?"
   ]
  }
 ],
 "metadata": {
  "kernelspec": {
   "display_name": "Python 3",
   "language": "python",
   "name": "python3"
  },
  "language_info": {
   "codemirror_mode": {
    "name": "ipython",
    "version": 3
   },
   "file_extension": ".py",
   "mimetype": "text/x-python",
   "name": "python",
   "nbconvert_exporter": "python",
   "pygments_lexer": "ipython3",
   "version": "3.13.7"
  }
 },
 "nbformat": 4,
 "nbformat_minor": 5
}
