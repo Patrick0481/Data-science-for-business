{
 "cells": [
  {
   "cell_type": "markdown",
   "id": "2d190e18",
   "metadata": {},
   "source": [
    "# Sales Forecasting - Data Understanding"
   ]
  },
  {
   "cell_type": "code",
   "execution_count": null,
   "id": "e9a1643a",
   "metadata": {},
   "outputs": [],
   "source": [
    "import pandas as pd\n",
    "import seaborn as sns\n",
    "import matplotlib.pyplot as plt"
   ]
  },
  {
   "cell_type": "markdown",
   "id": "4538bb94",
   "metadata": {},
   "source": [
    "💬 **Interpret this output:** What does it tell you about the data?"
   ]
  },
  {
   "cell_type": "code",
   "execution_count": null,
   "id": "a63ce7ca",
   "metadata": {},
   "outputs": [],
   "source": [
    "# Load dataset\n",
    "df = pd.read_csv(\"Week2_Sales_Forecasting.csv\")\n",
    "print(df.head())\n",
    "print(df.info())"
   ]
  },
  {
   "cell_type": "markdown",
   "id": "8ec9b86f",
   "metadata": {},
   "source": [
    "💬 **Interpret this output:** What does it tell you about the data?"
   ]
  },
  {
   "cell_type": "code",
   "execution_count": null,
   "id": "2a4e1b1f",
   "metadata": {},
   "outputs": [],
   "source": [
    "# Check for missing values and duplicates\n",
    "print(df.isnull().sum())\n",
    "print(df.duplicated().sum())"
   ]
  },
  {
   "cell_type": "markdown",
   "id": "897c05be",
   "metadata": {},
   "source": [
    "💬 **Interpret this output:** What does it tell you about the data?"
   ]
  },
  {
   "cell_type": "code",
   "execution_count": null,
   "id": "55483b8f",
   "metadata": {},
   "outputs": [],
   "source": [
    "# Summary stats\n",
    "print(df.describe())"
   ]
  },
  {
   "cell_type": "markdown",
   "id": "45b01b5e",
   "metadata": {},
   "source": [
    "💬 **Interpret this output:** What does it tell you about the data?"
   ]
  },
  {
   "cell_type": "code",
   "execution_count": null,
   "id": "9ffd9c6d",
   "metadata": {},
   "outputs": [],
   "source": [
    "# Units sold distribution\n",
    "sns.histplot(df[\"Units_Sold\"], bins=20)\n",
    "plt.title(\"Distribution of Units Sold\")\n",
    "plt.show()"
   ]
  },
  {
   "cell_type": "markdown",
   "id": "1e537a70",
   "metadata": {},
   "source": [
    "💬 **Interpret this output:** What does it tell you about the data?"
   ]
  },
  {
   "cell_type": "code",
   "execution_count": null,
   "id": "d97ac348",
   "metadata": {},
   "outputs": [],
   "source": [
    "# Weekly sales pattern\n",
    "sns.boxplot(x=\"Week\", y=\"Units_Sold\", data=df)\n",
    "plt.title(\"Weekly Units Sold\")\n",
    "plt.xticks(rotation=90)\n",
    "plt.show()"
   ]
  },
  {
   "cell_type": "markdown",
   "id": "3e9c39f9",
   "metadata": {},
   "source": [
    "💬 **Interpret this output:** What does it tell you about the data?"
   ]
  },
  {
   "cell_type": "code",
   "execution_count": null,
   "id": "1f77bf5d",
   "metadata": {},
   "outputs": [],
   "source": [
    "# Promotion impact on units sold\n",
    "sns.boxplot(x=\"Promotion_Applied\", y=\"Units_Sold\", data=df)\n",
    "plt.title(\"Impact of Promotions on Sales\")\n",
    "plt.show()"
   ]
  },
  {
   "cell_type": "markdown",
   "id": "ca81c593",
   "metadata": {},
   "source": [
    "💬 **Interpret this output:** What does it tell you about the data?"
   ]
  }
 ],
 "metadata": {
  "kernelspec": {
   "display_name": "Python 3",
   "language": "python",
   "name": "python3"
  },
  "language_info": {
   "codemirror_mode": {
    "name": "ipython",
    "version": 3
   },
   "file_extension": ".py",
   "mimetype": "text/x-python",
   "name": "python",
   "nbconvert_exporter": "python",
   "pygments_lexer": "ipython3",
   "version": "3.13.0"
  }
 },
 "nbformat": 4,
 "nbformat_minor": 5
}
