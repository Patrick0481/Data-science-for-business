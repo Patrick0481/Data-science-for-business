{
 "cells": [
  {
   "cell_type": "code",
   "execution_count": null,
   "id": "9ea8f3ea",
   "metadata": {
    "vscode": {
     "languageId": "plaintext"
    }
   },
   "outputs": [],
   "source": []
  },
  {
   "cell_type": "markdown",
   "id": "c1bf6650",
   "metadata": {},
   "source": [
    "Week 2 of data science for business \n",
    "the CRISP-dm model"
   ]
  }
 ],
 "metadata": {
  "language_info": {
   "name": "python"
  }
 },
 "nbformat": 4,
 "nbformat_minor": 5
}
